{
 "cells": [
  {
   "cell_type": "markdown",
   "source": [
    "# Do not run all cells , only run when new data is added and only run that cell to append"
   ],
   "metadata": {
    "collapsed": false
   }
  },
  {
   "cell_type": "code",
   "execution_count": 1,
   "metadata": {
    "collapsed": true,
    "ExecuteTime": {
     "end_time": "2023-07-09T18:01:06.075741400Z",
     "start_time": "2023-07-09T18:01:03.834800600Z"
    }
   },
   "outputs": [],
   "source": [
    "import pandas as pd"
   ]
  },
  {
   "cell_type": "code",
   "execution_count": 2,
   "outputs": [
    {
     "name": "stdout",
     "output_type": "stream",
     "text": [
      "DATA1 imported\n",
      "Training imported\n"
     ]
    }
   ],
   "source": [
    "data7 = pd.read_csv(\"D:\\\\KerbalSpaceProgram\\\\English\\\\GameData\\\\DataExport\\\\graphs\\\\13@85#F.csv\")\n",
    "print(\"DATA1 imported\")\n",
    "\n",
    "training = pd.read_csv(\"training.csv\")\n",
    "print(\"Training imported\")"
   ],
   "metadata": {
    "collapsed": false,
    "ExecuteTime": {
     "end_time": "2023-07-09T18:01:06.133006100Z",
     "start_time": "2023-07-09T18:01:06.075741400Z"
    }
   }
  },
  {
   "cell_type": "code",
   "execution_count": 3,
   "outputs": [
    {
     "data": {
      "text/plain": "      Time  Velocity  GForce  Acceleration   TWR   Mass  AltitudeFromTerrain  \\\n0        1        24    5.09         40.20  5.13  58.34               102.11   \n1        2        64    5.25         41.74  5.29  56.94               145.38   \n2        3       107    5.34         42.71  5.44  55.48               232.97   \n3        4       148    5.47         44.76  5.58  54.07               357.53   \n4        5       191    5.64         47.65  5.76  52.61               526.67   \n...    ...       ...     ...           ...   ...    ...                  ...   \n8080  2705      2007    2.72         26.37  0.00  22.30              3291.92   \n8081  2706      1982    2.72         26.42  0.00  22.30              2972.68   \n8082  2707      1956    2.77         26.82  0.00  22.30              2643.49   \n8083  2708      1931    2.83         27.36  0.00  22.30              2330.08   \n8084  2709      1905    2.79         26.96  0.00  22.30              2006.79   \n\n      DownrangeDistance  Apoapsis  Inclination  OrbitalVelocity  VesselDeltaV  \\\n0                  0.00       120         0.10              177          1992   \n1                  0.00       345         0.10              186          1939   \n2                  0.00       812         0.10              209          1886   \n3                  0.02      1458         0.11              245          1844   \n4                  0.05      2281         0.13              291          1790   \n...                 ...       ...          ...              ...           ...   \n8080            1054.88     29209         0.43             2181             0   \n8081            1052.96     26517         0.43             2156             0   \n8082            1050.99     24054         0.43             2130             0   \n8083            1049.12     21976         0.43             2104             0   \n8084            1047.20     20057         0.43             2078             0   \n\n      Pressure  Classifier  \n0        99.97         1.0  \n1        99.34         1.0  \n2        98.06         1.0  \n3        96.26         1.0  \n4        93.85         1.0  \n...        ...         ...  \n8080     60.66         NaN  \n8081     63.89         NaN  \n8082     67.36         NaN  \n8083     70.81         NaN  \n8084     74.52         NaN  \n\n[8085 rows x 14 columns]",
      "text/html": "<div>\n<style scoped>\n    .dataframe tbody tr th:only-of-type {\n        vertical-align: middle;\n    }\n\n    .dataframe tbody tr th {\n        vertical-align: top;\n    }\n\n    .dataframe thead th {\n        text-align: right;\n    }\n</style>\n<table border=\"1\" class=\"dataframe\">\n  <thead>\n    <tr style=\"text-align: right;\">\n      <th></th>\n      <th>Time</th>\n      <th>Velocity</th>\n      <th>GForce</th>\n      <th>Acceleration</th>\n      <th>TWR</th>\n      <th>Mass</th>\n      <th>AltitudeFromTerrain</th>\n      <th>DownrangeDistance</th>\n      <th>Apoapsis</th>\n      <th>Inclination</th>\n      <th>OrbitalVelocity</th>\n      <th>VesselDeltaV</th>\n      <th>Pressure</th>\n      <th>Classifier</th>\n    </tr>\n  </thead>\n  <tbody>\n    <tr>\n      <th>0</th>\n      <td>1</td>\n      <td>24</td>\n      <td>5.09</td>\n      <td>40.20</td>\n      <td>5.13</td>\n      <td>58.34</td>\n      <td>102.11</td>\n      <td>0.00</td>\n      <td>120</td>\n      <td>0.10</td>\n      <td>177</td>\n      <td>1992</td>\n      <td>99.97</td>\n      <td>1.0</td>\n    </tr>\n    <tr>\n      <th>1</th>\n      <td>2</td>\n      <td>64</td>\n      <td>5.25</td>\n      <td>41.74</td>\n      <td>5.29</td>\n      <td>56.94</td>\n      <td>145.38</td>\n      <td>0.00</td>\n      <td>345</td>\n      <td>0.10</td>\n      <td>186</td>\n      <td>1939</td>\n      <td>99.34</td>\n      <td>1.0</td>\n    </tr>\n    <tr>\n      <th>2</th>\n      <td>3</td>\n      <td>107</td>\n      <td>5.34</td>\n      <td>42.71</td>\n      <td>5.44</td>\n      <td>55.48</td>\n      <td>232.97</td>\n      <td>0.00</td>\n      <td>812</td>\n      <td>0.10</td>\n      <td>209</td>\n      <td>1886</td>\n      <td>98.06</td>\n      <td>1.0</td>\n    </tr>\n    <tr>\n      <th>3</th>\n      <td>4</td>\n      <td>148</td>\n      <td>5.47</td>\n      <td>44.76</td>\n      <td>5.58</td>\n      <td>54.07</td>\n      <td>357.53</td>\n      <td>0.02</td>\n      <td>1458</td>\n      <td>0.11</td>\n      <td>245</td>\n      <td>1844</td>\n      <td>96.26</td>\n      <td>1.0</td>\n    </tr>\n    <tr>\n      <th>4</th>\n      <td>5</td>\n      <td>191</td>\n      <td>5.64</td>\n      <td>47.65</td>\n      <td>5.76</td>\n      <td>52.61</td>\n      <td>526.67</td>\n      <td>0.05</td>\n      <td>2281</td>\n      <td>0.13</td>\n      <td>291</td>\n      <td>1790</td>\n      <td>93.85</td>\n      <td>1.0</td>\n    </tr>\n    <tr>\n      <th>...</th>\n      <td>...</td>\n      <td>...</td>\n      <td>...</td>\n      <td>...</td>\n      <td>...</td>\n      <td>...</td>\n      <td>...</td>\n      <td>...</td>\n      <td>...</td>\n      <td>...</td>\n      <td>...</td>\n      <td>...</td>\n      <td>...</td>\n      <td>...</td>\n    </tr>\n    <tr>\n      <th>8080</th>\n      <td>2705</td>\n      <td>2007</td>\n      <td>2.72</td>\n      <td>26.37</td>\n      <td>0.00</td>\n      <td>22.30</td>\n      <td>3291.92</td>\n      <td>1054.88</td>\n      <td>29209</td>\n      <td>0.43</td>\n      <td>2181</td>\n      <td>0</td>\n      <td>60.66</td>\n      <td>NaN</td>\n    </tr>\n    <tr>\n      <th>8081</th>\n      <td>2706</td>\n      <td>1982</td>\n      <td>2.72</td>\n      <td>26.42</td>\n      <td>0.00</td>\n      <td>22.30</td>\n      <td>2972.68</td>\n      <td>1052.96</td>\n      <td>26517</td>\n      <td>0.43</td>\n      <td>2156</td>\n      <td>0</td>\n      <td>63.89</td>\n      <td>NaN</td>\n    </tr>\n    <tr>\n      <th>8082</th>\n      <td>2707</td>\n      <td>1956</td>\n      <td>2.77</td>\n      <td>26.82</td>\n      <td>0.00</td>\n      <td>22.30</td>\n      <td>2643.49</td>\n      <td>1050.99</td>\n      <td>24054</td>\n      <td>0.43</td>\n      <td>2130</td>\n      <td>0</td>\n      <td>67.36</td>\n      <td>NaN</td>\n    </tr>\n    <tr>\n      <th>8083</th>\n      <td>2708</td>\n      <td>1931</td>\n      <td>2.83</td>\n      <td>27.36</td>\n      <td>0.00</td>\n      <td>22.30</td>\n      <td>2330.08</td>\n      <td>1049.12</td>\n      <td>21976</td>\n      <td>0.43</td>\n      <td>2104</td>\n      <td>0</td>\n      <td>70.81</td>\n      <td>NaN</td>\n    </tr>\n    <tr>\n      <th>8084</th>\n      <td>2709</td>\n      <td>1905</td>\n      <td>2.79</td>\n      <td>26.96</td>\n      <td>0.00</td>\n      <td>22.30</td>\n      <td>2006.79</td>\n      <td>1047.20</td>\n      <td>20057</td>\n      <td>0.43</td>\n      <td>2078</td>\n      <td>0</td>\n      <td>74.52</td>\n      <td>NaN</td>\n    </tr>\n  </tbody>\n</table>\n<p>8085 rows × 14 columns</p>\n</div>"
     },
     "execution_count": 3,
     "metadata": {},
     "output_type": "execute_result"
    }
   ],
   "source": [
    "training"
   ],
   "metadata": {
    "collapsed": false,
    "ExecuteTime": {
     "end_time": "2023-07-09T18:01:06.168472600Z",
     "start_time": "2023-07-09T18:01:06.104553500Z"
    }
   }
  },
  {
   "cell_type": "markdown",
   "source": [
    "# add the new data in place of data5 in the below code, remove the comment # and run it."
   ],
   "metadata": {
    "collapsed": false
   }
  },
  {
   "cell_type": "code",
   "execution_count": 19,
   "outputs": [],
   "source": [
    "training = training.drop([\"Unnamed: 0\",\"Unnamed: 0.1\",\"Unnamed: 0.2\",\"Unnamed: 0.3\",\"Unnamed: 0.4\",\"Unnamed: 0.5\",\"Unnamed: 0.6\",\"Unnamed: 13\"],axis=1)"
   ],
   "metadata": {
    "collapsed": false,
    "ExecuteTime": {
     "end_time": "2023-06-27T13:02:51.670012400Z",
     "start_time": "2023-06-27T13:02:51.640053500Z"
    }
   }
  },
  {
   "cell_type": "code",
   "execution_count": 30,
   "outputs": [],
   "source": [
    "training = training.drop(\"Z-Score\",axis=1)"
   ],
   "metadata": {
    "collapsed": false,
    "ExecuteTime": {
     "end_time": "2023-06-27T13:56:12.620981900Z",
     "start_time": "2023-06-27T13:56:12.598924700Z"
    }
   }
  },
  {
   "cell_type": "code",
   "execution_count": 13,
   "outputs": [],
   "source": [
    "training = training._append(data7)"
   ],
   "metadata": {
    "collapsed": false,
    "ExecuteTime": {
     "end_time": "2023-06-27T11:51:51.291044100Z",
     "start_time": "2023-06-27T11:51:51.269232100Z"
    }
   }
  },
  {
   "cell_type": "code",
   "execution_count": 31,
   "outputs": [],
   "source": [
    "training.to_csv(\"training.csv\",index_label=False)"
   ],
   "metadata": {
    "collapsed": false,
    "ExecuteTime": {
     "end_time": "2023-06-27T13:56:16.558728400Z",
     "start_time": "2023-06-27T13:56:16.474781800Z"
    }
   }
  },
  {
   "cell_type": "code",
   "execution_count": 32,
   "outputs": [
    {
     "data": {
      "text/plain": "      Time  Velocity  GForce  Acceleration   TWR   Mass  AltitudeFromTerrain  \\\n0        1        24    5.09         40.20  5.13  58.34               102.11   \n1        2        64    5.25         41.74  5.29  56.94               145.38   \n2        3       107    5.34         42.71  5.44  55.48               232.97   \n3        4       148    5.47         44.76  5.58  54.07               357.53   \n4        5       191    5.64         47.65  5.76  52.61               526.67   \n...    ...       ...     ...           ...   ...    ...                  ...   \n8080  2705      2007    2.72         26.37  0.00  22.30              3291.92   \n8081  2706      1982    2.72         26.42  0.00  22.30              2972.68   \n8082  2707      1956    2.77         26.82  0.00  22.30              2643.49   \n8083  2708      1931    2.83         27.36  0.00  22.30              2330.08   \n8084  2709      1905    2.79         26.96  0.00  22.30              2006.79   \n\n      DownrangeDistance  Apoapsis  Inclination  OrbitalVelocity  VesselDeltaV  \\\n0                  0.00       120         0.10              177          1992   \n1                  0.00       345         0.10              186          1939   \n2                  0.00       812         0.10              209          1886   \n3                  0.02      1458         0.11              245          1844   \n4                  0.05      2281         0.13              291          1790   \n...                 ...       ...          ...              ...           ...   \n8080            1054.88     29209         0.43             2181             0   \n8081            1052.96     26517         0.43             2156             0   \n8082            1050.99     24054         0.43             2130             0   \n8083            1049.12     21976         0.43             2104             0   \n8084            1047.20     20057         0.43             2078             0   \n\n      Pressure  Classifier  \n0        99.97         1.0  \n1        99.34         1.0  \n2        98.06         1.0  \n3        96.26         1.0  \n4        93.85         1.0  \n...        ...         ...  \n8080     60.66         NaN  \n8081     63.89         NaN  \n8082     67.36         NaN  \n8083     70.81         NaN  \n8084     74.52         NaN  \n\n[8085 rows x 14 columns]",
      "text/html": "<div>\n<style scoped>\n    .dataframe tbody tr th:only-of-type {\n        vertical-align: middle;\n    }\n\n    .dataframe tbody tr th {\n        vertical-align: top;\n    }\n\n    .dataframe thead th {\n        text-align: right;\n    }\n</style>\n<table border=\"1\" class=\"dataframe\">\n  <thead>\n    <tr style=\"text-align: right;\">\n      <th></th>\n      <th>Time</th>\n      <th>Velocity</th>\n      <th>GForce</th>\n      <th>Acceleration</th>\n      <th>TWR</th>\n      <th>Mass</th>\n      <th>AltitudeFromTerrain</th>\n      <th>DownrangeDistance</th>\n      <th>Apoapsis</th>\n      <th>Inclination</th>\n      <th>OrbitalVelocity</th>\n      <th>VesselDeltaV</th>\n      <th>Pressure</th>\n      <th>Classifier</th>\n    </tr>\n  </thead>\n  <tbody>\n    <tr>\n      <th>0</th>\n      <td>1</td>\n      <td>24</td>\n      <td>5.09</td>\n      <td>40.20</td>\n      <td>5.13</td>\n      <td>58.34</td>\n      <td>102.11</td>\n      <td>0.00</td>\n      <td>120</td>\n      <td>0.10</td>\n      <td>177</td>\n      <td>1992</td>\n      <td>99.97</td>\n      <td>1.0</td>\n    </tr>\n    <tr>\n      <th>1</th>\n      <td>2</td>\n      <td>64</td>\n      <td>5.25</td>\n      <td>41.74</td>\n      <td>5.29</td>\n      <td>56.94</td>\n      <td>145.38</td>\n      <td>0.00</td>\n      <td>345</td>\n      <td>0.10</td>\n      <td>186</td>\n      <td>1939</td>\n      <td>99.34</td>\n      <td>1.0</td>\n    </tr>\n    <tr>\n      <th>2</th>\n      <td>3</td>\n      <td>107</td>\n      <td>5.34</td>\n      <td>42.71</td>\n      <td>5.44</td>\n      <td>55.48</td>\n      <td>232.97</td>\n      <td>0.00</td>\n      <td>812</td>\n      <td>0.10</td>\n      <td>209</td>\n      <td>1886</td>\n      <td>98.06</td>\n      <td>1.0</td>\n    </tr>\n    <tr>\n      <th>3</th>\n      <td>4</td>\n      <td>148</td>\n      <td>5.47</td>\n      <td>44.76</td>\n      <td>5.58</td>\n      <td>54.07</td>\n      <td>357.53</td>\n      <td>0.02</td>\n      <td>1458</td>\n      <td>0.11</td>\n      <td>245</td>\n      <td>1844</td>\n      <td>96.26</td>\n      <td>1.0</td>\n    </tr>\n    <tr>\n      <th>4</th>\n      <td>5</td>\n      <td>191</td>\n      <td>5.64</td>\n      <td>47.65</td>\n      <td>5.76</td>\n      <td>52.61</td>\n      <td>526.67</td>\n      <td>0.05</td>\n      <td>2281</td>\n      <td>0.13</td>\n      <td>291</td>\n      <td>1790</td>\n      <td>93.85</td>\n      <td>1.0</td>\n    </tr>\n    <tr>\n      <th>...</th>\n      <td>...</td>\n      <td>...</td>\n      <td>...</td>\n      <td>...</td>\n      <td>...</td>\n      <td>...</td>\n      <td>...</td>\n      <td>...</td>\n      <td>...</td>\n      <td>...</td>\n      <td>...</td>\n      <td>...</td>\n      <td>...</td>\n      <td>...</td>\n    </tr>\n    <tr>\n      <th>8080</th>\n      <td>2705</td>\n      <td>2007</td>\n      <td>2.72</td>\n      <td>26.37</td>\n      <td>0.00</td>\n      <td>22.30</td>\n      <td>3291.92</td>\n      <td>1054.88</td>\n      <td>29209</td>\n      <td>0.43</td>\n      <td>2181</td>\n      <td>0</td>\n      <td>60.66</td>\n      <td>NaN</td>\n    </tr>\n    <tr>\n      <th>8081</th>\n      <td>2706</td>\n      <td>1982</td>\n      <td>2.72</td>\n      <td>26.42</td>\n      <td>0.00</td>\n      <td>22.30</td>\n      <td>2972.68</td>\n      <td>1052.96</td>\n      <td>26517</td>\n      <td>0.43</td>\n      <td>2156</td>\n      <td>0</td>\n      <td>63.89</td>\n      <td>NaN</td>\n    </tr>\n    <tr>\n      <th>8082</th>\n      <td>2707</td>\n      <td>1956</td>\n      <td>2.77</td>\n      <td>26.82</td>\n      <td>0.00</td>\n      <td>22.30</td>\n      <td>2643.49</td>\n      <td>1050.99</td>\n      <td>24054</td>\n      <td>0.43</td>\n      <td>2130</td>\n      <td>0</td>\n      <td>67.36</td>\n      <td>NaN</td>\n    </tr>\n    <tr>\n      <th>8083</th>\n      <td>2708</td>\n      <td>1931</td>\n      <td>2.83</td>\n      <td>27.36</td>\n      <td>0.00</td>\n      <td>22.30</td>\n      <td>2330.08</td>\n      <td>1049.12</td>\n      <td>21976</td>\n      <td>0.43</td>\n      <td>2104</td>\n      <td>0</td>\n      <td>70.81</td>\n      <td>NaN</td>\n    </tr>\n    <tr>\n      <th>8084</th>\n      <td>2709</td>\n      <td>1905</td>\n      <td>2.79</td>\n      <td>26.96</td>\n      <td>0.00</td>\n      <td>22.30</td>\n      <td>2006.79</td>\n      <td>1047.20</td>\n      <td>20057</td>\n      <td>0.43</td>\n      <td>2078</td>\n      <td>0</td>\n      <td>74.52</td>\n      <td>NaN</td>\n    </tr>\n  </tbody>\n</table>\n<p>8085 rows × 14 columns</p>\n</div>"
     },
     "execution_count": 32,
     "metadata": {},
     "output_type": "execute_result"
    }
   ],
   "source": [
    "training"
   ],
   "metadata": {
    "collapsed": false,
    "ExecuteTime": {
     "end_time": "2023-06-27T13:56:17.152635800Z",
     "start_time": "2023-06-27T13:56:17.120549Z"
    }
   }
  },
  {
   "cell_type": "code",
   "execution_count": null,
   "outputs": [],
   "source": [],
   "metadata": {
    "collapsed": false
   }
  }
 ],
 "metadata": {
  "kernelspec": {
   "display_name": "Python 3",
   "language": "python",
   "name": "python3"
  },
  "language_info": {
   "codemirror_mode": {
    "name": "ipython",
    "version": 2
   },
   "file_extension": ".py",
   "mimetype": "text/x-python",
   "name": "python",
   "nbconvert_exporter": "python",
   "pygments_lexer": "ipython2",
   "version": "2.7.6"
  }
 },
 "nbformat": 4,
 "nbformat_minor": 0
}
