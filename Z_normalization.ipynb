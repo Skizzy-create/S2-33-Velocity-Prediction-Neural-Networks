{
 "cells": [
  {
   "cell_type": "code",
   "execution_count": 1,
   "metadata": {
    "collapsed": true,
    "ExecuteTime": {
     "end_time": "2023-06-27T15:48:57.029574500Z",
     "start_time": "2023-06-27T15:48:56.190175400Z"
    }
   },
   "outputs": [],
   "source": [
    "import pandas as pd\n",
    "from scipy import stats"
   ]
  },
  {
   "cell_type": "code",
   "execution_count": 2,
   "outputs": [],
   "source": [
    "data = pd.read_csv(\"training.csv\")"
   ],
   "metadata": {
    "collapsed": false,
    "ExecuteTime": {
     "end_time": "2023-06-27T15:48:57.062018400Z",
     "start_time": "2023-06-27T15:48:57.030697900Z"
    }
   }
  },
  {
   "cell_type": "code",
   "execution_count": 11,
   "outputs": [],
   "source": [
    "data = pd.read_csv(\"D:\\\\KerbalSpaceProgram\\\\English\\\\GameData\\\\DataExport\\\\graphs\\\\12@50.csv\")"
   ],
   "metadata": {
    "collapsed": false,
    "ExecuteTime": {
     "end_time": "2023-06-27T15:53:06.338949900Z",
     "start_time": "2023-06-27T15:53:06.312495700Z"
    }
   }
  },
  {
   "cell_type": "code",
   "execution_count": 12,
   "outputs": [
    {
     "data": {
      "text/plain": "   Time  Velocity  GForce  Acceleration   TWR   Mass  AltitudeFromTerrain  \\\n0     1        24    5.11         40.31  5.14  58.31               102.66   \n1     2        64    5.26         41.80  5.29  56.94               145.45   \n2     3       109    5.38         43.01  5.42  55.45               235.58   \n3     4       151    5.50         44.16  5.59  54.07               360.26   \n4     5       197    5.63         45.48  5.77  52.58               541.58   \n\n   DownrangeDistance  Apoapsis  Inclination  OrbitalVelocity  VesselDeltaV  \\\n0                0.0       122          0.1              177          1989   \n1                0.0       346          0.1              186          1936   \n2                0.0       829          0.1              206          1893   \n3                0.0      1515          0.1              231          1840   \n4                0.0      2538          0.1              264          1787   \n\n   Pressure  Unnamed: 13  \n0     99.96          NaN  \n1     99.34          NaN  \n2     98.03          NaN  \n3     96.23          NaN  \n4     93.66          NaN  ",
      "text/html": "<div>\n<style scoped>\n    .dataframe tbody tr th:only-of-type {\n        vertical-align: middle;\n    }\n\n    .dataframe tbody tr th {\n        vertical-align: top;\n    }\n\n    .dataframe thead th {\n        text-align: right;\n    }\n</style>\n<table border=\"1\" class=\"dataframe\">\n  <thead>\n    <tr style=\"text-align: right;\">\n      <th></th>\n      <th>Time</th>\n      <th>Velocity</th>\n      <th>GForce</th>\n      <th>Acceleration</th>\n      <th>TWR</th>\n      <th>Mass</th>\n      <th>AltitudeFromTerrain</th>\n      <th>DownrangeDistance</th>\n      <th>Apoapsis</th>\n      <th>Inclination</th>\n      <th>OrbitalVelocity</th>\n      <th>VesselDeltaV</th>\n      <th>Pressure</th>\n      <th>Unnamed: 13</th>\n    </tr>\n  </thead>\n  <tbody>\n    <tr>\n      <th>0</th>\n      <td>1</td>\n      <td>24</td>\n      <td>5.11</td>\n      <td>40.31</td>\n      <td>5.14</td>\n      <td>58.31</td>\n      <td>102.66</td>\n      <td>0.0</td>\n      <td>122</td>\n      <td>0.1</td>\n      <td>177</td>\n      <td>1989</td>\n      <td>99.96</td>\n      <td>NaN</td>\n    </tr>\n    <tr>\n      <th>1</th>\n      <td>2</td>\n      <td>64</td>\n      <td>5.26</td>\n      <td>41.80</td>\n      <td>5.29</td>\n      <td>56.94</td>\n      <td>145.45</td>\n      <td>0.0</td>\n      <td>346</td>\n      <td>0.1</td>\n      <td>186</td>\n      <td>1936</td>\n      <td>99.34</td>\n      <td>NaN</td>\n    </tr>\n    <tr>\n      <th>2</th>\n      <td>3</td>\n      <td>109</td>\n      <td>5.38</td>\n      <td>43.01</td>\n      <td>5.42</td>\n      <td>55.45</td>\n      <td>235.58</td>\n      <td>0.0</td>\n      <td>829</td>\n      <td>0.1</td>\n      <td>206</td>\n      <td>1893</td>\n      <td>98.03</td>\n      <td>NaN</td>\n    </tr>\n    <tr>\n      <th>3</th>\n      <td>4</td>\n      <td>151</td>\n      <td>5.50</td>\n      <td>44.16</td>\n      <td>5.59</td>\n      <td>54.07</td>\n      <td>360.26</td>\n      <td>0.0</td>\n      <td>1515</td>\n      <td>0.1</td>\n      <td>231</td>\n      <td>1840</td>\n      <td>96.23</td>\n      <td>NaN</td>\n    </tr>\n    <tr>\n      <th>4</th>\n      <td>5</td>\n      <td>197</td>\n      <td>5.63</td>\n      <td>45.48</td>\n      <td>5.77</td>\n      <td>52.58</td>\n      <td>541.58</td>\n      <td>0.0</td>\n      <td>2538</td>\n      <td>0.1</td>\n      <td>264</td>\n      <td>1787</td>\n      <td>93.66</td>\n      <td>NaN</td>\n    </tr>\n  </tbody>\n</table>\n</div>"
     },
     "execution_count": 12,
     "metadata": {},
     "output_type": "execute_result"
    }
   ],
   "source": [
    "data.head()"
   ],
   "metadata": {
    "collapsed": false,
    "ExecuteTime": {
     "end_time": "2023-06-27T15:53:06.666058500Z",
     "start_time": "2023-06-27T15:53:06.634082900Z"
    }
   }
  },
  {
   "cell_type": "code",
   "execution_count": 13,
   "outputs": [],
   "source": [
    "data = data.apply(stats.zscore)"
   ],
   "metadata": {
    "collapsed": false,
    "ExecuteTime": {
     "end_time": "2023-06-27T15:53:07.191875400Z",
     "start_time": "2023-06-27T15:53:07.168884400Z"
    }
   }
  },
  {
   "cell_type": "code",
   "execution_count": 14,
   "outputs": [
    {
     "data": {
      "text/plain": "             Time      Velocity        GForce  Acceleration           TWR  \\\ncount  384.000000  3.840000e+02  3.840000e+02  3.840000e+02  3.840000e+02   \nmean     0.000000  2.960595e-16  7.401487e-17 -3.700743e-17  1.850372e-17   \nstd      1.001305  1.001305e+00  1.001305e+00  1.001305e+00  1.001305e+00   \nmin     -1.727546 -5.143654e+00 -2.849837e-01 -2.878561e-01 -2.556885e-01   \n25%     -0.863773 -3.567998e-01 -2.849837e-01 -2.810876e-01 -2.556885e-01   \n50%      0.000000 -8.276994e-03 -2.849837e-01 -2.613462e-01 -2.556885e-01   \n75%      0.863773  6.013839e-01 -2.802441e-01 -2.262346e-01 -2.556885e-01   \nmax      1.727546  1.432555e+00  6.341046e+00  6.769984e+00  6.272139e+00   \n\n               Mass  AltitudeFromTerrain  DownrangeDistance      Apoapsis  \\\ncount  3.840000e+02         3.840000e+02       3.840000e+02  3.840000e+02   \nmean  -1.295260e-15         2.590520e-16       2.220446e-16 -1.850372e-17   \nstd    1.001305e+00         1.001305e+00       1.001305e+00  1.001305e+00   \nmin   -2.297755e-01        -2.043526e+00      -1.641849e+00 -4.644391e+00   \n25%   -2.297755e-01        -7.775363e-01      -8.401646e-01  2.796694e-01   \n50%   -2.297755e-01         2.829491e-01       1.288607e-03  2.808619e-01   \n75%   -2.297755e-01         9.102901e-01       8.347223e-01  2.812742e-01   \nmax    6.506500e+00         1.119878e+00       1.792973e+00  5.167775e-01   \n\n        Inclination  OrbitalVelocity  VesselDeltaV      Pressure  Unnamed: 13  \ncount  3.840000e+02     3.840000e+02  3.840000e+02  3.840000e+02          0.0  \nmean  -1.646831e-15    -2.960595e-16  3.700743e-17  9.251859e-18          NaN  \nstd    1.001305e+00     1.001305e+00  1.001305e+00  1.001305e+00          NaN  \nmin   -5.932261e+00    -5.071399e+00 -2.414978e-01 -3.244051e-01          NaN  \n25%    2.039517e-01    -2.678669e-01 -2.414978e-01 -3.244051e-01          NaN  \n50%    2.039517e-01     2.915739e-02 -2.414978e-01 -3.244051e-01          NaN  \n75%    2.039517e-01     5.553428e-01 -2.414978e-01 -3.126940e-01          NaN  \nmax    2.039517e-01     1.293969e+00  5.696252e+00  4.936914e+00          NaN  ",
      "text/html": "<div>\n<style scoped>\n    .dataframe tbody tr th:only-of-type {\n        vertical-align: middle;\n    }\n\n    .dataframe tbody tr th {\n        vertical-align: top;\n    }\n\n    .dataframe thead th {\n        text-align: right;\n    }\n</style>\n<table border=\"1\" class=\"dataframe\">\n  <thead>\n    <tr style=\"text-align: right;\">\n      <th></th>\n      <th>Time</th>\n      <th>Velocity</th>\n      <th>GForce</th>\n      <th>Acceleration</th>\n      <th>TWR</th>\n      <th>Mass</th>\n      <th>AltitudeFromTerrain</th>\n      <th>DownrangeDistance</th>\n      <th>Apoapsis</th>\n      <th>Inclination</th>\n      <th>OrbitalVelocity</th>\n      <th>VesselDeltaV</th>\n      <th>Pressure</th>\n      <th>Unnamed: 13</th>\n    </tr>\n  </thead>\n  <tbody>\n    <tr>\n      <th>count</th>\n      <td>384.000000</td>\n      <td>3.840000e+02</td>\n      <td>3.840000e+02</td>\n      <td>3.840000e+02</td>\n      <td>3.840000e+02</td>\n      <td>3.840000e+02</td>\n      <td>3.840000e+02</td>\n      <td>3.840000e+02</td>\n      <td>3.840000e+02</td>\n      <td>3.840000e+02</td>\n      <td>3.840000e+02</td>\n      <td>3.840000e+02</td>\n      <td>3.840000e+02</td>\n      <td>0.0</td>\n    </tr>\n    <tr>\n      <th>mean</th>\n      <td>0.000000</td>\n      <td>2.960595e-16</td>\n      <td>7.401487e-17</td>\n      <td>-3.700743e-17</td>\n      <td>1.850372e-17</td>\n      <td>-1.295260e-15</td>\n      <td>2.590520e-16</td>\n      <td>2.220446e-16</td>\n      <td>-1.850372e-17</td>\n      <td>-1.646831e-15</td>\n      <td>-2.960595e-16</td>\n      <td>3.700743e-17</td>\n      <td>9.251859e-18</td>\n      <td>NaN</td>\n    </tr>\n    <tr>\n      <th>std</th>\n      <td>1.001305</td>\n      <td>1.001305e+00</td>\n      <td>1.001305e+00</td>\n      <td>1.001305e+00</td>\n      <td>1.001305e+00</td>\n      <td>1.001305e+00</td>\n      <td>1.001305e+00</td>\n      <td>1.001305e+00</td>\n      <td>1.001305e+00</td>\n      <td>1.001305e+00</td>\n      <td>1.001305e+00</td>\n      <td>1.001305e+00</td>\n      <td>1.001305e+00</td>\n      <td>NaN</td>\n    </tr>\n    <tr>\n      <th>min</th>\n      <td>-1.727546</td>\n      <td>-5.143654e+00</td>\n      <td>-2.849837e-01</td>\n      <td>-2.878561e-01</td>\n      <td>-2.556885e-01</td>\n      <td>-2.297755e-01</td>\n      <td>-2.043526e+00</td>\n      <td>-1.641849e+00</td>\n      <td>-4.644391e+00</td>\n      <td>-5.932261e+00</td>\n      <td>-5.071399e+00</td>\n      <td>-2.414978e-01</td>\n      <td>-3.244051e-01</td>\n      <td>NaN</td>\n    </tr>\n    <tr>\n      <th>25%</th>\n      <td>-0.863773</td>\n      <td>-3.567998e-01</td>\n      <td>-2.849837e-01</td>\n      <td>-2.810876e-01</td>\n      <td>-2.556885e-01</td>\n      <td>-2.297755e-01</td>\n      <td>-7.775363e-01</td>\n      <td>-8.401646e-01</td>\n      <td>2.796694e-01</td>\n      <td>2.039517e-01</td>\n      <td>-2.678669e-01</td>\n      <td>-2.414978e-01</td>\n      <td>-3.244051e-01</td>\n      <td>NaN</td>\n    </tr>\n    <tr>\n      <th>50%</th>\n      <td>0.000000</td>\n      <td>-8.276994e-03</td>\n      <td>-2.849837e-01</td>\n      <td>-2.613462e-01</td>\n      <td>-2.556885e-01</td>\n      <td>-2.297755e-01</td>\n      <td>2.829491e-01</td>\n      <td>1.288607e-03</td>\n      <td>2.808619e-01</td>\n      <td>2.039517e-01</td>\n      <td>2.915739e-02</td>\n      <td>-2.414978e-01</td>\n      <td>-3.244051e-01</td>\n      <td>NaN</td>\n    </tr>\n    <tr>\n      <th>75%</th>\n      <td>0.863773</td>\n      <td>6.013839e-01</td>\n      <td>-2.802441e-01</td>\n      <td>-2.262346e-01</td>\n      <td>-2.556885e-01</td>\n      <td>-2.297755e-01</td>\n      <td>9.102901e-01</td>\n      <td>8.347223e-01</td>\n      <td>2.812742e-01</td>\n      <td>2.039517e-01</td>\n      <td>5.553428e-01</td>\n      <td>-2.414978e-01</td>\n      <td>-3.126940e-01</td>\n      <td>NaN</td>\n    </tr>\n    <tr>\n      <th>max</th>\n      <td>1.727546</td>\n      <td>1.432555e+00</td>\n      <td>6.341046e+00</td>\n      <td>6.769984e+00</td>\n      <td>6.272139e+00</td>\n      <td>6.506500e+00</td>\n      <td>1.119878e+00</td>\n      <td>1.792973e+00</td>\n      <td>5.167775e-01</td>\n      <td>2.039517e-01</td>\n      <td>1.293969e+00</td>\n      <td>5.696252e+00</td>\n      <td>4.936914e+00</td>\n      <td>NaN</td>\n    </tr>\n  </tbody>\n</table>\n</div>"
     },
     "execution_count": 14,
     "metadata": {},
     "output_type": "execute_result"
    }
   ],
   "source": [
    "data.describe()"
   ],
   "metadata": {
    "collapsed": false,
    "ExecuteTime": {
     "end_time": "2023-06-27T15:53:07.595406800Z",
     "start_time": "2023-06-27T15:53:07.509053700Z"
    }
   }
  },
  {
   "cell_type": "code",
   "execution_count": 15,
   "outputs": [
    {
     "data": {
      "text/plain": "       Time  Velocity    GForce  Acceleration       TWR      Mass  \\\n0 -1.727546 -5.143654  2.136977      1.582503  2.031498  6.506500   \n1 -1.718525 -4.981078  2.208072      1.666545  2.098245  6.250219   \n2 -1.709504 -4.798179  2.264947      1.734794  2.156092  5.971489   \n3 -1.700483 -4.627474  2.321823      1.799658  2.231738  5.713337   \n4 -1.691462 -4.440512  2.383439      1.874112  2.311834  5.434607   \n\n   AltitudeFromTerrain  DownrangeDistance  Apoapsis  Inclination  \\\n0            -2.043526          -1.641849 -4.644391    -5.932261   \n1            -2.041908          -1.641849 -4.631199    -5.932261   \n2            -2.038500          -1.641849 -4.602755    -5.932261   \n3            -2.033785          -1.641849 -4.562356    -5.932261   \n4            -2.026929          -1.641849 -4.502111    -5.932261   \n\n   OrbitalVelocity  VesselDeltaV  Pressure  Unnamed: 13  \n0        -5.071399      5.696252  4.936914          NaN  \n1        -5.035992      5.538031  4.904280          NaN  \n2        -4.957310      5.409664  4.835330          NaN  \n3        -4.858958      5.251443  4.740588          NaN  \n4        -4.729133      5.093222  4.605318          NaN  ",
      "text/html": "<div>\n<style scoped>\n    .dataframe tbody tr th:only-of-type {\n        vertical-align: middle;\n    }\n\n    .dataframe tbody tr th {\n        vertical-align: top;\n    }\n\n    .dataframe thead th {\n        text-align: right;\n    }\n</style>\n<table border=\"1\" class=\"dataframe\">\n  <thead>\n    <tr style=\"text-align: right;\">\n      <th></th>\n      <th>Time</th>\n      <th>Velocity</th>\n      <th>GForce</th>\n      <th>Acceleration</th>\n      <th>TWR</th>\n      <th>Mass</th>\n      <th>AltitudeFromTerrain</th>\n      <th>DownrangeDistance</th>\n      <th>Apoapsis</th>\n      <th>Inclination</th>\n      <th>OrbitalVelocity</th>\n      <th>VesselDeltaV</th>\n      <th>Pressure</th>\n      <th>Unnamed: 13</th>\n    </tr>\n  </thead>\n  <tbody>\n    <tr>\n      <th>0</th>\n      <td>-1.727546</td>\n      <td>-5.143654</td>\n      <td>2.136977</td>\n      <td>1.582503</td>\n      <td>2.031498</td>\n      <td>6.506500</td>\n      <td>-2.043526</td>\n      <td>-1.641849</td>\n      <td>-4.644391</td>\n      <td>-5.932261</td>\n      <td>-5.071399</td>\n      <td>5.696252</td>\n      <td>4.936914</td>\n      <td>NaN</td>\n    </tr>\n    <tr>\n      <th>1</th>\n      <td>-1.718525</td>\n      <td>-4.981078</td>\n      <td>2.208072</td>\n      <td>1.666545</td>\n      <td>2.098245</td>\n      <td>6.250219</td>\n      <td>-2.041908</td>\n      <td>-1.641849</td>\n      <td>-4.631199</td>\n      <td>-5.932261</td>\n      <td>-5.035992</td>\n      <td>5.538031</td>\n      <td>4.904280</td>\n      <td>NaN</td>\n    </tr>\n    <tr>\n      <th>2</th>\n      <td>-1.709504</td>\n      <td>-4.798179</td>\n      <td>2.264947</td>\n      <td>1.734794</td>\n      <td>2.156092</td>\n      <td>5.971489</td>\n      <td>-2.038500</td>\n      <td>-1.641849</td>\n      <td>-4.602755</td>\n      <td>-5.932261</td>\n      <td>-4.957310</td>\n      <td>5.409664</td>\n      <td>4.835330</td>\n      <td>NaN</td>\n    </tr>\n    <tr>\n      <th>3</th>\n      <td>-1.700483</td>\n      <td>-4.627474</td>\n      <td>2.321823</td>\n      <td>1.799658</td>\n      <td>2.231738</td>\n      <td>5.713337</td>\n      <td>-2.033785</td>\n      <td>-1.641849</td>\n      <td>-4.562356</td>\n      <td>-5.932261</td>\n      <td>-4.858958</td>\n      <td>5.251443</td>\n      <td>4.740588</td>\n      <td>NaN</td>\n    </tr>\n    <tr>\n      <th>4</th>\n      <td>-1.691462</td>\n      <td>-4.440512</td>\n      <td>2.383439</td>\n      <td>1.874112</td>\n      <td>2.311834</td>\n      <td>5.434607</td>\n      <td>-2.026929</td>\n      <td>-1.641849</td>\n      <td>-4.502111</td>\n      <td>-5.932261</td>\n      <td>-4.729133</td>\n      <td>5.093222</td>\n      <td>4.605318</td>\n      <td>NaN</td>\n    </tr>\n  </tbody>\n</table>\n</div>"
     },
     "execution_count": 15,
     "metadata": {},
     "output_type": "execute_result"
    }
   ],
   "source": [
    "data.head()"
   ],
   "metadata": {
    "collapsed": false,
    "ExecuteTime": {
     "end_time": "2023-06-27T15:53:10.291853500Z",
     "start_time": "2023-06-27T15:53:10.260106Z"
    }
   }
  },
  {
   "cell_type": "code",
   "execution_count": 16,
   "outputs": [],
   "source": [
    "data.to_csv(\"12@50_zscore.csv\",index_label= False)"
   ],
   "metadata": {
    "collapsed": false,
    "ExecuteTime": {
     "end_time": "2023-06-27T15:53:17.676581Z",
     "start_time": "2023-06-27T15:53:17.653967900Z"
    }
   }
  },
  {
   "cell_type": "code",
   "execution_count": null,
   "outputs": [],
   "source": [],
   "metadata": {
    "collapsed": false
   }
  }
 ],
 "metadata": {
  "kernelspec": {
   "display_name": "Python 3",
   "language": "python",
   "name": "python3"
  },
  "language_info": {
   "codemirror_mode": {
    "name": "ipython",
    "version": 2
   },
   "file_extension": ".py",
   "mimetype": "text/x-python",
   "name": "python",
   "nbconvert_exporter": "python",
   "pygments_lexer": "ipython2",
   "version": "2.7.6"
  }
 },
 "nbformat": 4,
 "nbformat_minor": 0
}
